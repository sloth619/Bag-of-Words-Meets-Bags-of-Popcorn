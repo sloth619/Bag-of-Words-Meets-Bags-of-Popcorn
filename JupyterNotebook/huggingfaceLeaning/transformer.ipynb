{
 "cells": [
  {
   "cell_type": "code",
   "id": "02d2e424",
   "metadata": {
    "ExecuteTime": {
     "end_time": "2025-10-18T12:29:47.033627Z",
     "start_time": "2025-10-18T12:29:42.776111Z"
    }
   },
   "source": [
    "import torch\n",
    "from torch import nn\n",
    "import torch.nn.functional as F\n",
    "import  math"
   ],
   "outputs": [],
   "execution_count": 1
  },
  {
   "metadata": {
    "ExecuteTime": {
     "end_time": "2025-10-18T12:29:47.132226Z",
     "start_time": "2025-10-18T12:29:47.069239Z"
    }
   },
   "cell_type": "code",
   "source": "import",
   "id": "39088e47bad87861",
   "outputs": [
    {
     "name": "stdout",
     "output_type": "stream",
     "text": [
      "tensor([[0.5448, 0.0862, 0.2140, 0.6069],\n",
      "        [0.4222, 0.3915, 0.0724, 0.2771],\n",
      "        [0.9677, 0.3700, 0.9052, 0.2598],\n",
      "        [0.3106, 0.2487, 0.5936, 0.0650]])\n"
     ]
    }
   ],
   "execution_count": 2
  },
  {
   "metadata": {},
   "cell_type": "code",
   "outputs": [],
   "execution_count": null,
   "source": "class TokenEmbedding(nn.Embedding):",
   "id": "3c52edb14763a04d"
  }
 ],
 "metadata": {
  "kernelspec": {
   "display_name": "Python 3 (ipykernel)",
   "language": "python",
   "name": "python3"
  },
  "language_info": {
   "codemirror_mode": {
    "name": "ipython",
    "version": 3
   },
   "file_extension": ".py",
   "mimetype": "text/x-python",
   "name": "python",
   "nbconvert_exporter": "python",
   "pygments_lexer": "ipython3",
   "version": "3.9.13"
  }
 },
 "nbformat": 4,
 "nbformat_minor": 5
}
